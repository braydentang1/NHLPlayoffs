{
 "cells": [
  {
   "cell_type": "markdown",
   "metadata": {},
   "source": [
    "# NHL Playoff Prediction Model\n",
    "\n",
    "This notebook seeks to achieve a model that can, with some sort of reasonable performance, accurately predict the outcome of any particular NHL playoff series. In particular, we focus on achieving a model that can, on average, generate lower log loss than a naive strategy of always picking the highest seed to win with probability equal to that of the long term highest seed win rate that has been observed over time (the MLE), or the implied odds of the opening game of a series provided by Vegas.\n",
    "\n",
    "### Data Processing\n",
    "\n"
   ]
  },
  {
   "cell_type": "markdown",
   "metadata": {},
   "source": [
    "This project was originally inspired by a hockey pool that I participated in at my former workplace, where we only had to predict the series winner (rather than on a game by game basis). As a result, I needed predictions on series, not on games.\n",
    "\n",
    "A common approach to this problem is to use a model to predict on a game by game basis, but then simulate an entire playoff series using the implied probability distribution as given by the model (creating new \"observations\" to generate predictions on, based off the results of prior games in the simulation). I decide to do this a bit differently by modelling the series outcome directly.\n",
    "\n",
    "We still need to summarize the stats of two teams down into a single row. There have been a variety of creative ways to get around this (such as fitting a secondary model that aggregates, or perhaps one single long row that has two columns per a single statistic, one for the higher seed and one for the lower), but I decide to just difference the two rows, for each column, to keep the dimension reasonable given the small size of the dataset. The differencing is always done from the higher seeds perspective, that is, it is always the statistic of the higher seed minus the same statistic for the lower seed in the series.\n",
    "\n",
    "The scraping, for brevity, is not included here but the files themselves are included in the repository (src/scraping/R). Raw data sets (no differencing) are also output by each individual scraping script. All of these data sets can be found in the data directory of this repository.\n",
    "\n",
    "### EDA\n",
    "\n",
    "Using the processed dataset:"
   ]
  },
  {
   "cell_type": "code",
   "execution_count": null,
   "metadata": {},
   "outputs": [],
   "source": []
  }
 ],
 "metadata": {
  "kernelspec": {
   "display_name": "R",
   "language": "R",
   "name": "ir"
  },
  "language_info": {
   "codemirror_mode": "r",
   "file_extension": ".r",
   "mimetype": "text/x-r-source",
   "name": "R",
   "pygments_lexer": "r",
   "version": "3.6.1"
  }
 },
 "nbformat": 4,
 "nbformat_minor": 4
}
